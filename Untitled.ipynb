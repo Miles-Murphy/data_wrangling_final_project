{
 "cells": [
  {
   "cell_type": "markdown",
   "metadata": {},
   "source": [
    "#### Tidiness\n",
    "<ul>\n",
    "    <p>\n",
    "        <li><em>tweet_data_df_clean:</em>\n",
    "            <ul {\n",
    "  list-style-type: square;\n",
    "}>\n",
    "                <li>tweet_data_df_clean does not need to be in separate dfs</li>\n",
    "            </ul>\n",
    "        </li>\n",
    "    </p>\n",
    "    <p>\n",
    "        <li><em>image_predictions_clean:</em>\n",
    "            <ul {\n",
    "  list-style-type: square;\n",
    "}>\n",
    "                <li>image_predictions_clean and twitter_archive_clean do not need to be separate dfs</li>\n",
    "            </ul>\n",
    "        </li>\n",
    "    </p>\n",
    "        <li><em>twitter_archive_clean:</em>\n",
    "            <ul {\n",
    "  list-style-type: square;\n",
    "}>\n",
    "                <li>text column has both a url and the tweet text</li>\n",
    "                <li>combination of twitter_archive_clean and tweet_data_df_clean has duplicated the timestamp column</li>\n",
    "                <li>four columns are used for each dog stage</li>\n",
    "            </ul>\n",
    "        </li>\n",
    "</ul>"
   ]
  },
  {
   "cell_type": "markdown",
   "metadata": {},
   "source": [
    "#### Quality\n",
    "<ul> \n",
    "    <p>\n",
    "        <li><em>tweet_data_df_clean:</em>\n",
    "            <ul {\n",
    "  list-style-type: square;\n",
    "}>\n",
    "                <li>data quality issues will be addressed after merge with twitter_archive_clean</li>\n",
    "            </ul>\n",
    "        </li>\n",
    "    </p>\n",
    "    <p>\n",
    "        <li><em>image_predictions_clean:</em>\n",
    "            <ul {\n",
    "  list-style-type: square;\n",
    "}>\n",
    "                <li>data quality issues will be addressed after merge with twitter_archive_clean</li>                \n",
    "                <li>there are many image predictions (even in p1) which are not dogs, sometimes not even animals</li>\n",
    "                <li>there are 64 image predictions where the first two predictions are not dogs</li>\n",
    "                <li>there are 324 image predictions where all three predictions are not dogs</li>\n",
    "                <li>tweet_id datatype is int64 and it should be a string</li>\n",
    "            </ul>\n",
    "        </li>\n",
    "    </p>\n",
    "        <li><em>twitter_archive_clean:</em>\n",
    "            <ul {\n",
    "  list-style-type: square;\n",
    "}>\n",
    "                <li>timestamp_x provides more data than necessary and has unecessary characters in name from merge</li>\n",
    "                <li>timestamp is datatype is an object and it should be datetime</li>\n",
    "                <li>duplicated timestamp column, timestamp_x</li>\n",
    "                <li>rows which are retweets or replies are unnecessary</li>\n",
    "                <li>in_reply_to_status_id, in_reply_to_user_id, retweeted_status_id, retweeted_status_user_id, retweeted_status_timestamp columns are no longer necessary</li>           \n",
    "                <li>tweet_id datatype is int64 and it should be a string</li>\n",
    "                <li>dog_stage datatype is a string and it should be a category</li>\n",
    "                <li>some rows do not have expanded_urls data</li>\n",
    "                <li>inconsistent formatting for the names of potential image matches in p1, p2, and p3</li>\n",
    "                <li>source column contains unecessary information</li>\n",
    "                <li>some rows do not have image data also found in image_predictions_clean</li>\n",
    "                <li>some rows do not have like or retweet information</li> \n",
    "                <li>rating_denominator is sometimes not 10 (no rating in text)</li>\n",
    "                <li>rating_denominator is sometimes not 10 (second fraction-like string in text)</li>\n",
    "                <li>rating_denominator is sometimes not 10 (multiplied by dogs)</li>\n",
    "            </ul>\n",
    "        </li>\n",
    "</ul>        "
   ]
  },
  {
   "cell_type": "markdown",
   "metadata": {},
   "source": []
  },
  {
   "cell_type": "markdown",
   "metadata": {},
   "source": []
  }
 ],
 "metadata": {
  "kernelspec": {
   "display_name": "Python 3",
   "language": "python",
   "name": "python3"
  },
  "language_info": {
   "codemirror_mode": {
    "name": "ipython",
    "version": 3
   },
   "file_extension": ".py",
   "mimetype": "text/x-python",
   "name": "python",
   "nbconvert_exporter": "python",
   "pygments_lexer": "ipython3",
   "version": "3.7.7"
  }
 },
 "nbformat": 4,
 "nbformat_minor": 4
}

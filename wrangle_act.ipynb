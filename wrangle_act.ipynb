{
 "cells": [
  {
   "cell_type": "markdown",
   "metadata": {},
   "source": [
    "# Data Gathering"
   ]
  },
  {
   "cell_type": "code",
   "execution_count": 1,
   "metadata": {},
   "outputs": [],
   "source": [
    "import pandas as pd\n",
    "import json\n",
    "from timeit import default_timer as timer\n",
    "import numpy as np\n",
    "import matplotlib.pyplot as plt\n",
    "\n",
    "%matplotlib inline"
   ]
  },
  {
   "cell_type": "markdown",
   "metadata": {},
   "source": [
    "### 1. Create a DF out of the desired data from the JSON file created using the Twitter API"
   ]
  },
  {
   "cell_type": "code",
   "execution_count": 2,
   "metadata": {
    "scrolled": true
   },
   "outputs": [],
   "source": [
    "tweet_data = []\n",
    "#Open and read each line of the Json file. \n",
    "with open(\"tweet_json.txt\", 'r') as json_file:\n",
    "    for line in json_file:\n",
    "        json_data = json.loads(line)\n",
    "        timestamp = json_data['created_at'] #Pull out 4 data points (timestamp, tweet_id, likes, and retweets)\n",
    "        likes = json_data['favorite_count']\n",
    "        tweet_id = json_data['id']\n",
    "        retweets = json_data['retweet_count']\n",
    "        \n",
    "        tweet_data.append({'timestamp': timestamp, #Append those 4 pieces of data to a list in the form of a dict (key/value pairs) to be converted later into a DF\n",
    "                         'likes': likes,\n",
    "                         'tweet_id': tweet_id,\n",
    "                         'retweets': retweets})\n"
   ]
  },
  {
   "cell_type": "code",
   "execution_count": 3,
   "metadata": {},
   "outputs": [],
   "source": [
    "tweet_data_df = pd.DataFrame(tweet_data, columns = ['timestamp', 'likes', 'tweet_id', 'retweets'])#Create the dataframe with the JSON data above and specific column names"
   ]
  },
  {
   "cell_type": "code",
   "execution_count": 4,
   "metadata": {
    "scrolled": true
   },
   "outputs": [
    {
     "data": {
      "text/html": [
       "<div>\n",
       "<style scoped>\n",
       "    .dataframe tbody tr th:only-of-type {\n",
       "        vertical-align: middle;\n",
       "    }\n",
       "\n",
       "    .dataframe tbody tr th {\n",
       "        vertical-align: top;\n",
       "    }\n",
       "\n",
       "    .dataframe thead th {\n",
       "        text-align: right;\n",
       "    }\n",
       "</style>\n",
       "<table border=\"1\" class=\"dataframe\">\n",
       "  <thead>\n",
       "    <tr style=\"text-align: right;\">\n",
       "      <th></th>\n",
       "      <th>timestamp</th>\n",
       "      <th>likes</th>\n",
       "      <th>tweet_id</th>\n",
       "      <th>retweets</th>\n",
       "    </tr>\n",
       "  </thead>\n",
       "  <tbody>\n",
       "    <tr>\n",
       "      <th>0</th>\n",
       "      <td>Tue Aug 01 16:23:56 +0000 2017</td>\n",
       "      <td>35562</td>\n",
       "      <td>892420643555336193</td>\n",
       "      <td>7534</td>\n",
       "    </tr>\n",
       "    <tr>\n",
       "      <th>1</th>\n",
       "      <td>Tue Aug 01 00:17:27 +0000 2017</td>\n",
       "      <td>30753</td>\n",
       "      <td>892177421306343426</td>\n",
       "      <td>5589</td>\n",
       "    </tr>\n",
       "    <tr>\n",
       "      <th>2</th>\n",
       "      <td>Mon Jul 31 00:18:03 +0000 2017</td>\n",
       "      <td>23130</td>\n",
       "      <td>891815181378084864</td>\n",
       "      <td>3703</td>\n",
       "    </tr>\n",
       "    <tr>\n",
       "      <th>3</th>\n",
       "      <td>Sun Jul 30 15:58:51 +0000 2017</td>\n",
       "      <td>38869</td>\n",
       "      <td>891689557279858688</td>\n",
       "      <td>7717</td>\n",
       "    </tr>\n",
       "    <tr>\n",
       "      <th>4</th>\n",
       "      <td>Sat Jul 29 16:00:24 +0000 2017</td>\n",
       "      <td>37129</td>\n",
       "      <td>891327558926688256</td>\n",
       "      <td>8316</td>\n",
       "    </tr>\n",
       "  </tbody>\n",
       "</table>\n",
       "</div>"
      ],
      "text/plain": [
       "                        timestamp  likes            tweet_id  retweets\n",
       "0  Tue Aug 01 16:23:56 +0000 2017  35562  892420643555336193      7534\n",
       "1  Tue Aug 01 00:17:27 +0000 2017  30753  892177421306343426      5589\n",
       "2  Mon Jul 31 00:18:03 +0000 2017  23130  891815181378084864      3703\n",
       "3  Sun Jul 30 15:58:51 +0000 2017  38869  891689557279858688      7717\n",
       "4  Sat Jul 29 16:00:24 +0000 2017  37129  891327558926688256      8316"
      ]
     },
     "execution_count": 4,
     "metadata": {},
     "output_type": "execute_result"
    }
   ],
   "source": [
    "tweet_data_df.head()"
   ]
  },
  {
   "cell_type": "code",
   "execution_count": 5,
   "metadata": {},
   "outputs": [
    {
     "name": "stdout",
     "output_type": "stream",
     "text": [
      "<class 'pandas.core.frame.DataFrame'>\n",
      "RangeIndex: 2331 entries, 0 to 2330\n",
      "Data columns (total 4 columns):\n",
      " #   Column     Non-Null Count  Dtype \n",
      "---  ------     --------------  ----- \n",
      " 0   timestamp  2331 non-null   object\n",
      " 1   likes      2331 non-null   int64 \n",
      " 2   tweet_id   2331 non-null   int64 \n",
      " 3   retweets   2331 non-null   int64 \n",
      "dtypes: int64(3), object(1)\n",
      "memory usage: 73.0+ KB\n"
     ]
    }
   ],
   "source": [
    "tweet_data_df.info()"
   ]
  },
  {
   "cell_type": "markdown",
   "metadata": {},
   "source": [
    "### 2. Create a DF from the provided WeRateDogs twitter archive data csv"
   ]
  },
  {
   "cell_type": "code",
   "execution_count": 6,
   "metadata": {},
   "outputs": [],
   "source": [
    "twitter_archive = pd.read_csv('twitter-archive-enhanced.csv')"
   ]
  },
  {
   "cell_type": "code",
   "execution_count": 7,
   "metadata": {},
   "outputs": [
    {
     "name": "stdout",
     "output_type": "stream",
     "text": [
      "<class 'pandas.core.frame.DataFrame'>\n",
      "RangeIndex: 2356 entries, 0 to 2355\n",
      "Data columns (total 17 columns):\n",
      " #   Column                      Non-Null Count  Dtype  \n",
      "---  ------                      --------------  -----  \n",
      " 0   tweet_id                    2356 non-null   int64  \n",
      " 1   in_reply_to_status_id       78 non-null     float64\n",
      " 2   in_reply_to_user_id         78 non-null     float64\n",
      " 3   timestamp                   2356 non-null   object \n",
      " 4   source                      2356 non-null   object \n",
      " 5   text                        2356 non-null   object \n",
      " 6   retweeted_status_id         181 non-null    float64\n",
      " 7   retweeted_status_user_id    181 non-null    float64\n",
      " 8   retweeted_status_timestamp  181 non-null    object \n",
      " 9   expanded_urls               2297 non-null   object \n",
      " 10  rating_numerator            2356 non-null   int64  \n",
      " 11  rating_denominator          2356 non-null   int64  \n",
      " 12  name                        2356 non-null   object \n",
      " 13  doggo                       2356 non-null   object \n",
      " 14  floofer                     2356 non-null   object \n",
      " 15  pupper                      2356 non-null   object \n",
      " 16  puppo                       2356 non-null   object \n",
      "dtypes: float64(4), int64(3), object(10)\n",
      "memory usage: 313.0+ KB\n"
     ]
    }
   ],
   "source": [
    "twitter_archive.info()"
   ]
  },
  {
   "cell_type": "code",
   "execution_count": 8,
   "metadata": {},
   "outputs": [
    {
     "data": {
      "text/plain": [
       "True     2278\n",
       "False      78\n",
       "Name: in_reply_to_status_id, dtype: int64"
      ]
     },
     "execution_count": 8,
     "metadata": {},
     "output_type": "execute_result"
    }
   ],
   "source": [
    "twitter_archive.in_reply_to_status_id.isnull().value_counts()"
   ]
  },
  {
   "cell_type": "markdown",
   "metadata": {},
   "source": [
    "### 3. Create a DF utilizing the requests package to work with the provided image predictions url"
   ]
  },
  {
   "cell_type": "code",
   "execution_count": 9,
   "metadata": {},
   "outputs": [],
   "source": [
    "import requests\n",
    "url = 'https://d17h27t6h515a5.cloudfront.net/topher/2017/August/599fd2ad_image-predictions/image-predictions.tsv'"
   ]
  },
  {
   "cell_type": "code",
   "execution_count": 10,
   "metadata": {},
   "outputs": [],
   "source": [
    "r = requests.get(url)"
   ]
  },
  {
   "cell_type": "code",
   "execution_count": 11,
   "metadata": {},
   "outputs": [],
   "source": [
    "with open('image_predictions.tsv', 'wb') as file:\n",
    "    file.write(r.content)"
   ]
  },
  {
   "cell_type": "code",
   "execution_count": 12,
   "metadata": {},
   "outputs": [
    {
     "name": "stdout",
     "output_type": "stream",
     "text": [
      "<class 'pandas.core.frame.DataFrame'>\n",
      "RangeIndex: 2075 entries, 0 to 2074\n",
      "Data columns (total 12 columns):\n",
      " #   Column    Non-Null Count  Dtype  \n",
      "---  ------    --------------  -----  \n",
      " 0   tweet_id  2075 non-null   int64  \n",
      " 1   jpg_url   2075 non-null   object \n",
      " 2   img_num   2075 non-null   int64  \n",
      " 3   p1        2075 non-null   object \n",
      " 4   p1_conf   2075 non-null   float64\n",
      " 5   p1_dog    2075 non-null   bool   \n",
      " 6   p2        2075 non-null   object \n",
      " 7   p2_conf   2075 non-null   float64\n",
      " 8   p2_dog    2075 non-null   bool   \n",
      " 9   p3        2075 non-null   object \n",
      " 10  p3_conf   2075 non-null   float64\n",
      " 11  p3_dog    2075 non-null   bool   \n",
      "dtypes: bool(3), float64(3), int64(2), object(4)\n",
      "memory usage: 152.1+ KB\n"
     ]
    }
   ],
   "source": [
    "image_predictions = pd.read_csv('image_predictions.tsv', sep='\\t')\n",
    "image_predictions.info()"
   ]
  },
  {
   "cell_type": "code",
   "execution_count": 13,
   "metadata": {},
   "outputs": [
    {
     "data": {
      "text/html": [
       "<div>\n",
       "<style scoped>\n",
       "    .dataframe tbody tr th:only-of-type {\n",
       "        vertical-align: middle;\n",
       "    }\n",
       "\n",
       "    .dataframe tbody tr th {\n",
       "        vertical-align: top;\n",
       "    }\n",
       "\n",
       "    .dataframe thead th {\n",
       "        text-align: right;\n",
       "    }\n",
       "</style>\n",
       "<table border=\"1\" class=\"dataframe\">\n",
       "  <thead>\n",
       "    <tr style=\"text-align: right;\">\n",
       "      <th></th>\n",
       "      <th>tweet_id</th>\n",
       "      <th>jpg_url</th>\n",
       "      <th>img_num</th>\n",
       "      <th>p1</th>\n",
       "      <th>p1_conf</th>\n",
       "      <th>p1_dog</th>\n",
       "      <th>p2</th>\n",
       "      <th>p2_conf</th>\n",
       "      <th>p2_dog</th>\n",
       "      <th>p3</th>\n",
       "      <th>p3_conf</th>\n",
       "      <th>p3_dog</th>\n",
       "    </tr>\n",
       "  </thead>\n",
       "  <tbody>\n",
       "    <tr>\n",
       "      <th>285</th>\n",
       "      <td>671147085991960577</td>\n",
       "      <td>https://pbs.twimg.com/media/CVBktzQXAAAPpUA.jpg</td>\n",
       "      <td>1</td>\n",
       "      <td>Yorkshire_terrier</td>\n",
       "      <td>0.467202</td>\n",
       "      <td>True</td>\n",
       "      <td>cairn</td>\n",
       "      <td>0.440122</td>\n",
       "      <td>True</td>\n",
       "      <td>silky_terrier</td>\n",
       "      <td>0.058690</td>\n",
       "      <td>True</td>\n",
       "    </tr>\n",
       "    <tr>\n",
       "      <th>1966</th>\n",
       "      <td>867774946302451713</td>\n",
       "      <td>https://pbs.twimg.com/media/DAr0tDZXUAEMvdu.jpg</td>\n",
       "      <td>2</td>\n",
       "      <td>Border_collie</td>\n",
       "      <td>0.661953</td>\n",
       "      <td>True</td>\n",
       "      <td>Cardigan</td>\n",
       "      <td>0.175718</td>\n",
       "      <td>True</td>\n",
       "      <td>collie</td>\n",
       "      <td>0.087142</td>\n",
       "      <td>True</td>\n",
       "    </tr>\n",
       "    <tr>\n",
       "      <th>1106</th>\n",
       "      <td>723179728551723008</td>\n",
       "      <td>https://pbs.twimg.com/media/CglAHjAUgAAfxcq.jpg</td>\n",
       "      <td>1</td>\n",
       "      <td>tennis_ball</td>\n",
       "      <td>0.176495</td>\n",
       "      <td>False</td>\n",
       "      <td>badger</td>\n",
       "      <td>0.059905</td>\n",
       "      <td>False</td>\n",
       "      <td>Norwegian_elkhound</td>\n",
       "      <td>0.056850</td>\n",
       "      <td>True</td>\n",
       "    </tr>\n",
       "  </tbody>\n",
       "</table>\n",
       "</div>"
      ],
      "text/plain": [
       "                tweet_id                                          jpg_url  \\\n",
       "285   671147085991960577  https://pbs.twimg.com/media/CVBktzQXAAAPpUA.jpg   \n",
       "1966  867774946302451713  https://pbs.twimg.com/media/DAr0tDZXUAEMvdu.jpg   \n",
       "1106  723179728551723008  https://pbs.twimg.com/media/CglAHjAUgAAfxcq.jpg   \n",
       "\n",
       "      img_num                 p1   p1_conf  p1_dog        p2   p2_conf  \\\n",
       "285         1  Yorkshire_terrier  0.467202    True     cairn  0.440122   \n",
       "1966        2      Border_collie  0.661953    True  Cardigan  0.175718   \n",
       "1106        1        tennis_ball  0.176495   False    badger  0.059905   \n",
       "\n",
       "      p2_dog                  p3   p3_conf  p3_dog  \n",
       "285     True       silky_terrier  0.058690    True  \n",
       "1966    True              collie  0.087142    True  \n",
       "1106   False  Norwegian_elkhound  0.056850    True  "
      ]
     },
     "execution_count": 13,
     "metadata": {},
     "output_type": "execute_result"
    }
   ],
   "source": [
    "image_predictions.sample(3)"
   ]
  },
  {
   "cell_type": "markdown",
   "metadata": {},
   "source": [
    "#### Now that the DFs have been created, a copy of each is generated for future use during assessment or cleaning stages of the Data Wrangling process"
   ]
  },
  {
   "cell_type": "code",
   "execution_count": 14,
   "metadata": {},
   "outputs": [],
   "source": [
    "tweet_data_df_clean = tweet_data_df.copy()\n",
    "image_predictions_clean = image_predictions.copy()\n",
    "twitter_archive_clean = twitter_archive.copy()"
   ]
  },
  {
   "cell_type": "markdown",
   "metadata": {},
   "source": [
    "# Assess"
   ]
  },
  {
   "cell_type": "markdown",
   "metadata": {},
   "source": [
    "### 1. Programmatic and Visual Assessment"
   ]
  },
  {
   "cell_type": "markdown",
   "metadata": {},
   "source": [
    "#### Quality\n",
    "<ul> \n",
    "    <li>tweet_data_df_clean:\n",
    "        <ol>\n",
    "            <li>Timestamp data provides more data than necessary</li>\n",
    "            <li>There are 163 tweets with 0 likes, but all of them have at least 19 or more retweets</li>\n",
    "        </ol>\n",
    "    </li>\n",
    "    <li>image_predictions_clean\n",
    "    </li>\n",
    "    <li>twitter_archive_clean\n",
    "    </li>\n",
    "</ul>        "
   ]
  },
  {
   "cell_type": "markdown",
   "metadata": {},
   "source": [
    "#### Tidiness\n",
    "<ul> \n",
    "    <li>tweet_data_df_clean:\n",
    "        <ol>\n",
    "            <li>timestamp is datatype is an object and it should be datetime</li>\n",
    "            <li>tweet_id datatype is int64 and it should be a string</li>\n",
    "        </ol>\n",
    "    </li>\n",
    "    <li>image_predictions_clean\n",
    "    </li>\n",
    "    <li>twitter_archive_clean\n",
    "    </li>\n",
    "</ul>        "
   ]
  },
  {
   "cell_type": "markdown",
   "metadata": {},
   "source": [
    "## tweet_data_df_clean"
   ]
  },
  {
   "cell_type": "code",
   "execution_count": 48,
   "metadata": {},
   "outputs": [
    {
     "data": {
      "text/html": [
       "<div>\n",
       "<style scoped>\n",
       "    .dataframe tbody tr th:only-of-type {\n",
       "        vertical-align: middle;\n",
       "    }\n",
       "\n",
       "    .dataframe tbody tr th {\n",
       "        vertical-align: top;\n",
       "    }\n",
       "\n",
       "    .dataframe thead th {\n",
       "        text-align: right;\n",
       "    }\n",
       "</style>\n",
       "<table border=\"1\" class=\"dataframe\">\n",
       "  <thead>\n",
       "    <tr style=\"text-align: right;\">\n",
       "      <th></th>\n",
       "      <th>timestamp</th>\n",
       "      <th>likes</th>\n",
       "      <th>tweet_id</th>\n",
       "      <th>retweets</th>\n",
       "    </tr>\n",
       "  </thead>\n",
       "  <tbody>\n",
       "    <tr>\n",
       "      <th>279</th>\n",
       "      <td>Sat Mar 04 17:56:49 +0000 2017</td>\n",
       "      <td>138</td>\n",
       "      <td>838085839343206401</td>\n",
       "      <td>1</td>\n",
       "    </tr>\n",
       "    <tr>\n",
       "      <th>1271</th>\n",
       "      <td>Thu Mar 10 17:35:20 +0000 2016</td>\n",
       "      <td>49</td>\n",
       "      <td>707983188426153984</td>\n",
       "      <td>2</td>\n",
       "    </tr>\n",
       "    <tr>\n",
       "      <th>262</th>\n",
       "      <td>Sat Mar 11 22:59:09 +0000 2017</td>\n",
       "      <td>171</td>\n",
       "      <td>840698636975636481</td>\n",
       "      <td>2</td>\n",
       "    </tr>\n",
       "    <tr>\n",
       "      <th>328</th>\n",
       "      <td>Thu Feb 16 04:45:50 +0000 2017</td>\n",
       "      <td>62</td>\n",
       "      <td>832088576586297345</td>\n",
       "      <td>2</td>\n",
       "    </tr>\n",
       "    <tr>\n",
       "      <th>109</th>\n",
       "      <td>Fri Jun 02 19:38:25 +0000 2017</td>\n",
       "      <td>113</td>\n",
       "      <td>870726314365509632</td>\n",
       "      <td>3</td>\n",
       "    </tr>\n",
       "    <tr>\n",
       "      <th>29</th>\n",
       "      <td>Sat Jul 15 16:51:35 +0000 2017</td>\n",
       "      <td>110</td>\n",
       "      <td>886267009285017600</td>\n",
       "      <td>4</td>\n",
       "    </tr>\n",
       "    <tr>\n",
       "      <th>1056</th>\n",
       "      <td>Sat Jun 04 00:32:32 +0000 2016</td>\n",
       "      <td>106</td>\n",
       "      <td>738891149612572673</td>\n",
       "      <td>6</td>\n",
       "    </tr>\n",
       "    <tr>\n",
       "      <th>54</th>\n",
       "      <td>Sun Jul 02 21:58:53 +0000 2017</td>\n",
       "      <td>115</td>\n",
       "      <td>881633300179243008</td>\n",
       "      <td>7</td>\n",
       "    </tr>\n",
       "    <tr>\n",
       "      <th>411</th>\n",
       "      <td>Tue Jan 17 00:33:26 +0000 2017</td>\n",
       "      <td>254</td>\n",
       "      <td>821153421864615936</td>\n",
       "      <td>10</td>\n",
       "    </tr>\n",
       "    <tr>\n",
       "      <th>63</th>\n",
       "      <td>Tue Jun 27 12:14:36 +0000 2017</td>\n",
       "      <td>291</td>\n",
       "      <td>879674319642796034</td>\n",
       "      <td>10</td>\n",
       "    </tr>\n",
       "  </tbody>\n",
       "</table>\n",
       "</div>"
      ],
      "text/plain": [
       "                           timestamp  likes            tweet_id  retweets\n",
       "279   Sat Mar 04 17:56:49 +0000 2017    138  838085839343206401         1\n",
       "1271  Thu Mar 10 17:35:20 +0000 2016     49  707983188426153984         2\n",
       "262   Sat Mar 11 22:59:09 +0000 2017    171  840698636975636481         2\n",
       "328   Thu Feb 16 04:45:50 +0000 2017     62  832088576586297345         2\n",
       "109   Fri Jun 02 19:38:25 +0000 2017    113  870726314365509632         3\n",
       "29    Sat Jul 15 16:51:35 +0000 2017    110  886267009285017600         4\n",
       "1056  Sat Jun 04 00:32:32 +0000 2016    106  738891149612572673         6\n",
       "54    Sun Jul 02 21:58:53 +0000 2017    115  881633300179243008         7\n",
       "411   Tue Jan 17 00:33:26 +0000 2017    254  821153421864615936        10\n",
       "63    Tue Jun 27 12:14:36 +0000 2017    291  879674319642796034        10"
      ]
     },
     "execution_count": 48,
     "metadata": {},
     "output_type": "execute_result"
    }
   ],
   "source": [
    "tweet_data_df_clean.sort_values(by = 'retweets').head(10)"
   ]
  },
  {
   "cell_type": "code",
   "execution_count": 16,
   "metadata": {},
   "outputs": [
    {
     "name": "stdout",
     "output_type": "stream",
     "text": [
      "<class 'pandas.core.frame.DataFrame'>\n",
      "RangeIndex: 2331 entries, 0 to 2330\n",
      "Data columns (total 4 columns):\n",
      " #   Column     Non-Null Count  Dtype \n",
      "---  ------     --------------  ----- \n",
      " 0   timestamp  2331 non-null   object\n",
      " 1   likes      2331 non-null   int64 \n",
      " 2   tweet_id   2331 non-null   int64 \n",
      " 3   retweets   2331 non-null   int64 \n",
      "dtypes: int64(3), object(1)\n",
      "memory usage: 73.0+ KB\n"
     ]
    }
   ],
   "source": [
    "tweet_data_df_clean.info()"
   ]
  },
  {
   "cell_type": "code",
   "execution_count": 17,
   "metadata": {},
   "outputs": [
    {
     "data": {
      "text/html": [
       "<div>\n",
       "<style scoped>\n",
       "    .dataframe tbody tr th:only-of-type {\n",
       "        vertical-align: middle;\n",
       "    }\n",
       "\n",
       "    .dataframe tbody tr th {\n",
       "        vertical-align: top;\n",
       "    }\n",
       "\n",
       "    .dataframe thead th {\n",
       "        text-align: right;\n",
       "    }\n",
       "</style>\n",
       "<table border=\"1\" class=\"dataframe\">\n",
       "  <thead>\n",
       "    <tr style=\"text-align: right;\">\n",
       "      <th></th>\n",
       "      <th>likes</th>\n",
       "      <th>tweet_id</th>\n",
       "      <th>retweets</th>\n",
       "    </tr>\n",
       "  </thead>\n",
       "  <tbody>\n",
       "    <tr>\n",
       "      <th>count</th>\n",
       "      <td>2331.00000</td>\n",
       "      <td>2.331000e+03</td>\n",
       "      <td>2331.000000</td>\n",
       "    </tr>\n",
       "    <tr>\n",
       "      <th>mean</th>\n",
       "      <td>7430.58387</td>\n",
       "      <td>7.419079e+17</td>\n",
       "      <td>2648.574432</td>\n",
       "    </tr>\n",
       "    <tr>\n",
       "      <th>std</th>\n",
       "      <td>11539.21545</td>\n",
       "      <td>6.823170e+16</td>\n",
       "      <td>4479.174285</td>\n",
       "    </tr>\n",
       "    <tr>\n",
       "      <th>min</th>\n",
       "      <td>0.00000</td>\n",
       "      <td>6.660209e+17</td>\n",
       "      <td>1.000000</td>\n",
       "    </tr>\n",
       "    <tr>\n",
       "      <th>25%</th>\n",
       "      <td>1292.50000</td>\n",
       "      <td>6.782670e+17</td>\n",
       "      <td>537.000000</td>\n",
       "    </tr>\n",
       "    <tr>\n",
       "      <th>50%</th>\n",
       "      <td>3229.00000</td>\n",
       "      <td>7.182469e+17</td>\n",
       "      <td>1239.000000</td>\n",
       "    </tr>\n",
       "    <tr>\n",
       "      <th>75%</th>\n",
       "      <td>9097.00000</td>\n",
       "      <td>7.986692e+17</td>\n",
       "      <td>3077.000000</td>\n",
       "    </tr>\n",
       "    <tr>\n",
       "      <th>max</th>\n",
       "      <td>153472.00000</td>\n",
       "      <td>8.924206e+17</td>\n",
       "      <td>76095.000000</td>\n",
       "    </tr>\n",
       "  </tbody>\n",
       "</table>\n",
       "</div>"
      ],
      "text/plain": [
       "              likes      tweet_id      retweets\n",
       "count    2331.00000  2.331000e+03   2331.000000\n",
       "mean     7430.58387  7.419079e+17   2648.574432\n",
       "std     11539.21545  6.823170e+16   4479.174285\n",
       "min         0.00000  6.660209e+17      1.000000\n",
       "25%      1292.50000  6.782670e+17    537.000000\n",
       "50%      3229.00000  7.182469e+17   1239.000000\n",
       "75%      9097.00000  7.986692e+17   3077.000000\n",
       "max    153472.00000  8.924206e+17  76095.000000"
      ]
     },
     "execution_count": 17,
     "metadata": {},
     "output_type": "execute_result"
    }
   ],
   "source": [
    "tweet_data_df_clean.describe()"
   ]
  },
  {
   "cell_type": "code",
   "execution_count": 27,
   "metadata": {},
   "outputs": [
    {
     "data": {
      "text/plain": [
       "453          0\n",
       "439          0\n",
       "437          0\n",
       "434          0\n",
       "431          0\n",
       "         ...  \n",
       "1055    113395\n",
       "129     114540\n",
       "517     118456\n",
       "397     130823\n",
       "1015    153472\n",
       "Name: likes, Length: 2331, dtype: int64"
      ]
     },
     "execution_count": 27,
     "metadata": {},
     "output_type": "execute_result"
    }
   ],
   "source": [
    "tweet_data_df_clean.likes.sort_values()"
   ]
  },
  {
   "cell_type": "code",
   "execution_count": 37,
   "metadata": {},
   "outputs": [
    {
     "data": {
      "text/plain": [
       "110       2\n",
       "3062      3\n",
       "1362      3\n",
       "2771      3\n",
       "752       3\n",
       "491       3\n",
       "291       3\n",
       "755       3\n",
       "2033      3\n",
       "3727      3\n",
       "0       163\n",
       "Name: likes, dtype: int64"
      ]
     },
     "execution_count": 37,
     "metadata": {},
     "output_type": "execute_result"
    }
   ],
   "source": [
    "tweet_data_df_clean.likes.value_counts().sort_values().tail(11)"
   ]
  },
  {
   "cell_type": "code",
   "execution_count": 24,
   "metadata": {},
   "outputs": [
    {
     "data": {
      "text/html": [
       "<div>\n",
       "<style scoped>\n",
       "    .dataframe tbody tr th:only-of-type {\n",
       "        vertical-align: middle;\n",
       "    }\n",
       "\n",
       "    .dataframe tbody tr th {\n",
       "        vertical-align: top;\n",
       "    }\n",
       "\n",
       "    .dataframe thead th {\n",
       "        text-align: right;\n",
       "    }\n",
       "</style>\n",
       "<table border=\"1\" class=\"dataframe\">\n",
       "  <thead>\n",
       "    <tr style=\"text-align: right;\">\n",
       "      <th></th>\n",
       "      <th>timestamp</th>\n",
       "      <th>likes</th>\n",
       "      <th>tweet_id</th>\n",
       "      <th>retweets</th>\n",
       "    </tr>\n",
       "  </thead>\n",
       "  <tbody>\n",
       "    <tr>\n",
       "      <th>31</th>\n",
       "      <td>Sat Jul 15 02:45:48 +0000 2017</td>\n",
       "      <td>0</td>\n",
       "      <td>886054160059072513</td>\n",
       "      <td>99</td>\n",
       "    </tr>\n",
       "    <tr>\n",
       "      <th>35</th>\n",
       "      <td>Thu Jul 13 01:35:06 +0000 2017</td>\n",
       "      <td>0</td>\n",
       "      <td>885311592912609280</td>\n",
       "      <td>16528</td>\n",
       "    </tr>\n",
       "    <tr>\n",
       "      <th>67</th>\n",
       "      <td>Mon Jun 26 00:13:58 +0000 2017</td>\n",
       "      <td>0</td>\n",
       "      <td>879130579576475649</td>\n",
       "      <td>6094</td>\n",
       "    </tr>\n",
       "    <tr>\n",
       "      <th>72</th>\n",
       "      <td>Sat Jun 24 00:09:53 +0000 2017</td>\n",
       "      <td>0</td>\n",
       "      <td>878404777348136964</td>\n",
       "      <td>1148</td>\n",
       "    </tr>\n",
       "    <tr>\n",
       "      <th>73</th>\n",
       "      <td>Fri Jun 23 18:17:33 +0000 2017</td>\n",
       "      <td>0</td>\n",
       "      <td>878316110768087041</td>\n",
       "      <td>5950</td>\n",
       "    </tr>\n",
       "    <tr>\n",
       "      <th>...</th>\n",
       "      <td>...</td>\n",
       "      <td>...</td>\n",
       "      <td>...</td>\n",
       "      <td>...</td>\n",
       "    </tr>\n",
       "    <tr>\n",
       "      <th>999</th>\n",
       "      <td>Sat Jun 25 01:52:36 +0000 2016</td>\n",
       "      <td>0</td>\n",
       "      <td>746521445350707200</td>\n",
       "      <td>966</td>\n",
       "    </tr>\n",
       "    <tr>\n",
       "      <th>1019</th>\n",
       "      <td>Fri Jun 17 16:01:16 +0000 2016</td>\n",
       "      <td>0</td>\n",
       "      <td>743835915802583040</td>\n",
       "      <td>2024</td>\n",
       "    </tr>\n",
       "    <tr>\n",
       "      <th>1218</th>\n",
       "      <td>Mon Mar 21 19:31:59 +0000 2016</td>\n",
       "      <td>0</td>\n",
       "      <td>711998809858043904</td>\n",
       "      <td>125</td>\n",
       "    </tr>\n",
       "    <tr>\n",
       "      <th>2234</th>\n",
       "      <td>Fri Nov 20 03:51:52 +0000 2015</td>\n",
       "      <td>0</td>\n",
       "      <td>667550904950915073</td>\n",
       "      <td>31</td>\n",
       "    </tr>\n",
       "    <tr>\n",
       "      <th>2235</th>\n",
       "      <td>Fri Nov 20 03:51:47 +0000 2015</td>\n",
       "      <td>0</td>\n",
       "      <td>667550882905632768</td>\n",
       "      <td>28</td>\n",
       "    </tr>\n",
       "  </tbody>\n",
       "</table>\n",
       "<p>163 rows × 4 columns</p>\n",
       "</div>"
      ],
      "text/plain": [
       "                           timestamp  likes            tweet_id  retweets\n",
       "31    Sat Jul 15 02:45:48 +0000 2017      0  886054160059072513        99\n",
       "35    Thu Jul 13 01:35:06 +0000 2017      0  885311592912609280     16528\n",
       "67    Mon Jun 26 00:13:58 +0000 2017      0  879130579576475649      6094\n",
       "72    Sat Jun 24 00:09:53 +0000 2017      0  878404777348136964      1148\n",
       "73    Fri Jun 23 18:17:33 +0000 2017      0  878316110768087041      5950\n",
       "...                              ...    ...                 ...       ...\n",
       "999   Sat Jun 25 01:52:36 +0000 2016      0  746521445350707200       966\n",
       "1019  Fri Jun 17 16:01:16 +0000 2016      0  743835915802583040      2024\n",
       "1218  Mon Mar 21 19:31:59 +0000 2016      0  711998809858043904       125\n",
       "2234  Fri Nov 20 03:51:52 +0000 2015      0  667550904950915073        31\n",
       "2235  Fri Nov 20 03:51:47 +0000 2015      0  667550882905632768        28\n",
       "\n",
       "[163 rows x 4 columns]"
      ]
     },
     "execution_count": 24,
     "metadata": {},
     "output_type": "execute_result"
    }
   ],
   "source": [
    "tweet_data_df_clean.query(\"likes == 0\")"
   ]
  },
  {
   "cell_type": "code",
   "execution_count": 25,
   "metadata": {},
   "outputs": [
    {
     "data": {
      "text/html": [
       "<div>\n",
       "<style scoped>\n",
       "    .dataframe tbody tr th:only-of-type {\n",
       "        vertical-align: middle;\n",
       "    }\n",
       "\n",
       "    .dataframe tbody tr th {\n",
       "        vertical-align: top;\n",
       "    }\n",
       "\n",
       "    .dataframe thead th {\n",
       "        text-align: right;\n",
       "    }\n",
       "</style>\n",
       "<table border=\"1\" class=\"dataframe\">\n",
       "  <thead>\n",
       "    <tr style=\"text-align: right;\">\n",
       "      <th></th>\n",
       "      <th>timestamp</th>\n",
       "      <th>likes</th>\n",
       "      <th>tweet_id</th>\n",
       "      <th>retweets</th>\n",
       "    </tr>\n",
       "  </thead>\n",
       "  <tbody>\n",
       "    <tr>\n",
       "      <th>279</th>\n",
       "      <td>Sat Mar 04 17:56:49 +0000 2017</td>\n",
       "      <td>138</td>\n",
       "      <td>838085839343206401</td>\n",
       "      <td>1</td>\n",
       "    </tr>\n",
       "  </tbody>\n",
       "</table>\n",
       "</div>"
      ],
      "text/plain": [
       "                          timestamp  likes            tweet_id  retweets\n",
       "279  Sat Mar 04 17:56:49 +0000 2017    138  838085839343206401         1"
      ]
     },
     "execution_count": 25,
     "metadata": {},
     "output_type": "execute_result"
    }
   ],
   "source": [
    "tweet_data_df_clean.query(\"retweets == 1\")"
   ]
  },
  {
   "cell_type": "code",
   "execution_count": 26,
   "metadata": {},
   "outputs": [
    {
     "data": {
      "text/html": [
       "<div>\n",
       "<style scoped>\n",
       "    .dataframe tbody tr th:only-of-type {\n",
       "        vertical-align: middle;\n",
       "    }\n",
       "\n",
       "    .dataframe tbody tr th {\n",
       "        vertical-align: top;\n",
       "    }\n",
       "\n",
       "    .dataframe thead th {\n",
       "        text-align: right;\n",
       "    }\n",
       "</style>\n",
       "<table border=\"1\" class=\"dataframe\">\n",
       "  <thead>\n",
       "    <tr style=\"text-align: right;\">\n",
       "      <th></th>\n",
       "      <th>timestamp</th>\n",
       "      <th>likes</th>\n",
       "      <th>tweet_id</th>\n",
       "      <th>retweets</th>\n",
       "    </tr>\n",
       "  </thead>\n",
       "  <tbody>\n",
       "    <tr>\n",
       "      <th>203</th>\n",
       "      <td>Tue Apr 11 18:15:55 +0000 2017</td>\n",
       "      <td>0</td>\n",
       "      <td>851861385021730816</td>\n",
       "      <td>19</td>\n",
       "    </tr>\n",
       "  </tbody>\n",
       "</table>\n",
       "</div>"
      ],
      "text/plain": [
       "                          timestamp  likes            tweet_id  retweets\n",
       "203  Tue Apr 11 18:15:55 +0000 2017      0  851861385021730816        19"
      ]
     },
     "execution_count": 26,
     "metadata": {},
     "output_type": "execute_result"
    }
   ],
   "source": [
    "tweet_data_df_clean.query(\"likes == 0 and retweets <= 20\")"
   ]
  },
  {
   "cell_type": "code",
   "execution_count": 40,
   "metadata": {},
   "outputs": [
    {
     "data": {
      "text/plain": [
       "279         1\n",
       "1271        2\n",
       "262         2\n",
       "328         2\n",
       "109         3\n",
       "        ...  \n",
       "65      39888\n",
       "397     42889\n",
       "517     55468\n",
       "1055    56601\n",
       "1015    76095\n",
       "Name: retweets, Length: 2331, dtype: int64"
      ]
     },
     "execution_count": 40,
     "metadata": {},
     "output_type": "execute_result"
    }
   ],
   "source": [
    "tweet_data_df_clean.retweets.sort_values()"
   ]
  },
  {
   "cell_type": "markdown",
   "metadata": {},
   "source": [
    "## image_predictions_clean"
   ]
  },
  {
   "cell_type": "code",
   "execution_count": null,
   "metadata": {},
   "outputs": [],
   "source": []
  }
 ],
 "metadata": {
  "kernelspec": {
   "display_name": "Python 3",
   "language": "python",
   "name": "python3"
  },
  "language_info": {
   "codemirror_mode": {
    "name": "ipython",
    "version": 3
   },
   "file_extension": ".py",
   "mimetype": "text/x-python",
   "name": "python",
   "nbconvert_exporter": "python",
   "pygments_lexer": "ipython3",
   "version": "3.7.7"
  }
 },
 "nbformat": 4,
 "nbformat_minor": 4
}
